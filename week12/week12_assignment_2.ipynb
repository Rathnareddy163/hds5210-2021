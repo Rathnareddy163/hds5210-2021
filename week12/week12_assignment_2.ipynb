{
 "cells": [
  {
   "cell_type": "markdown",
   "metadata": {
    "nbgrader": {
     "grade": false,
     "grade_id": "cell-fc1c39d0d6f8b82a",
     "locked": true,
     "schema_version": 1,
     "solution": false
    }
   },
   "source": [
    "# Week 12 Programming Assignment\n",
    "\n",
    "As you're working on identifying data for your final project, it's helpful to spend some time exploring your various data files.  For this week's assignment, I'd like you to take a few of the ideas from the the lectures, review assignment, and tonight's lecture to start exploring the data you plan to use for the final project.\n",
    "\n",
    "For the following activities, you can use just one of the data files that you've identified, or you can do the activities using different data files.  That's up to you.  Please describe what you're doing in a Markdown cell or in the comments of your code.  When you've completed the assignment, submit it as normal."
   ]
  },
  {
   "cell_type": "markdown",
   "metadata": {},
   "source": [
    "### 1. Basic Statistics\n",
    "\n",
    "Use Python to read in your data file and show many rows and columns your data has."
   ]
  },
  {
   "cell_type": "code",
   "execution_count": 1,
   "metadata": {},
   "outputs": [
    {
     "name": "stdout",
     "output_type": "stream",
     "text": [
      "Number of Columns:  8\n",
      "Number of Rows:  166\n"
     ]
    }
   ],
   "source": [
    "import pandas as pd\n",
    "import numpy as np\n",
    "\n",
    "'''\n",
    "We will access the dataset from three datasets. The datasets will be downloaded in three different formats (csv, json, and xlsx).\n",
    "We will access the same dataset from three different resources in three different formats and will take one third from each dataset and merge those\n",
    "to create the final dataset for analysis.\n",
    "\n",
    "Merging different datasets can rendor the final dataset useless. So, just to show the procedure we are doing this thing.\n",
    "\n",
    "The used dataset is World Happiness Report 2021. We are analyzing the mortality rate in year 2020 and 2021, we will see the effect of Covid-19 spread on death rates in \n",
    "each year.\n",
    "'''\n",
    "\n",
    "# reading excel sheet of mortality data from World Happiness report portal\n",
    "dataframe1 = pd.read_excel(\"https://happiness-report.s3.amazonaws.com/2021/MortalityDataWHR2021C2.xlsx\")\n",
    "\n",
    "# reading json file from system\n",
    "dataframe2 = pd.read_json(\"MortalityDataWHR2021C2.json\")\n",
    "\n",
    "# Loading the dataframe from downloaded CSV file (from Kaggle)\n",
    "dataframe3 = pd.read_csv(\"MortalityDataWHR2021C2.csv\")\n",
    "\n",
    "df1_2 = pd.merge(dataframe1[[\"Country name\", \"Population 2020\", \"Population 2019\", \"COVID-19 deaths per 100,000 population in 2020\"]],\n",
    "                 dataframe2[[\"Country name\", \"Median age\"]],\n",
    "                 on = \"Country name\"\n",
    "                 )\n",
    "final_df = pd.merge(df1_2, \n",
    "                    dataframe3[[\"Country name\", \"Log of average distance to SARS countries\", \"Index of institutional trust\", \"Gini coefficient of income\"]], \n",
    "                    on = \"Country name\")\n",
    "\n",
    "final_df.head()\n",
    "\n",
    "print(\"Number of Columns: \", final_df.shape[1])\n",
    "print(\"Number of Rows: \", final_df.shape[0])"
   ]
  },
  {
   "cell_type": "markdown",
   "metadata": {},
   "source": [
    "### 2. Data Diversity\n",
    "\n",
    "Use Python to identify how many unique values each column in your data has.  Use Python to identify which column has the greatest number of distinct values (aka the most diversity)?"
   ]
  },
  {
   "cell_type": "code",
   "execution_count": 2,
   "metadata": {},
   "outputs": [
    {
     "name": "stdout",
     "output_type": "stream",
     "text": [
      "Number of unique values in  Population 2020  are  165\n",
      "Number of unique in  Population 2019  are  165\n",
      "Number of unique in  COVID-19 deaths per 100,000 population in 2020  are  161\n",
      "Number of unique in  Median age  are  119\n",
      "Number of unique in  Log of average distance to SARS countries  are  152\n",
      "Number of unique in  Index of institutional trust  are  149\n",
      "Number of unique in  Gini coefficient of income  are  157\n",
      "\n",
      "\n",
      "The most diverse column is \" Population 2020 \" and the number of unique values is  165\n"
     ]
    }
   ],
   "source": [
    "# Getting number of unique values in each columns\n",
    "max_unique_values = 0\n",
    "max_unique_value_column = None\n",
    "\n",
    "col = \"Population 2020\"\n",
    "print(\"Number of unique values in \", col, \" are \", len(final_df[col].unique()))\n",
    "if(len(final_df[col].unique()) > max_unique_values):\n",
    "  max_unique_values = len(final_df[col].unique())\n",
    "  max_unique_value_column = col\n",
    "\n",
    "col = \"Population 2019\"\n",
    "print(\"Number of unique in \", col, \" are \", len(final_df[col].unique()))\n",
    "if(len(final_df[col].unique()) > max_unique_values):\n",
    "  max_unique_values = len(final_df[col].unique())\n",
    "  max_unique_value_column = col\n",
    "\n",
    "\n",
    "col = \"COVID-19 deaths per 100,000 population in 2020\"\n",
    "print(\"Number of unique in \", col, \" are \", len(final_df[col].unique()))\n",
    "if(len(final_df[col].unique()) > max_unique_values):\n",
    "  max_unique_values = len(final_df[col].unique())\n",
    "  max_unique_value_column = col\n",
    "\n",
    "\n",
    "col = \"Median age\"\n",
    "print(\"Number of unique in \", col, \" are \", len(final_df[col].unique()))\n",
    "if(len(final_df[col].unique()) > max_unique_values):\n",
    "  max_unique_values = len(final_df[col].unique())\n",
    "  max_unique_value_column = col\n",
    "\n",
    "col = \"Log of average distance to SARS countries\"\n",
    "print(\"Number of unique in \", col, \" are \", len(final_df[col].unique()))\n",
    "if(len(final_df[col].unique()) > max_unique_values):\n",
    "  max_unique_values = len(final_df[col].unique())\n",
    "  max_unique_value_column = col\n",
    "\n",
    "col = \"Index of institutional trust\"\n",
    "print(\"Number of unique in \", col, \" are \", len(final_df[col].unique()))\n",
    "if(len(final_df[col].unique()) > max_unique_values):\n",
    "  max_unique_values = len(final_df[col].unique())\n",
    "  max_unique_value_column = col\n",
    "\n",
    "col = \"Gini coefficient of income\"\n",
    "print(\"Number of unique in \", col, \" are \", len(final_df[col].unique()))\n",
    "if(len(final_df[col].unique()) > max_unique_values):\n",
    "  max_unique_values = len(final_df[col].unique())\n",
    "  max_unique_value_column = col\n",
    "\n",
    "print(\"\\n\")\n",
    "print(\"The most diverse column is \\\"\", max_unique_value_column, \"\\\" and the number of unique values is \", max_unique_values)"
   ]
  },
  {
   "cell_type": "markdown",
   "metadata": {},
   "source": [
    "### 3. Data Redundancy\n",
    "\n",
    "Use Python to identify any columns in your data where the value for every row is the same.  For example, if you had a gender column and all the rows said 'M', then you would want to write the code that helped you determine that."
   ]
  },
  {
   "cell_type": "code",
   "execution_count": 3,
   "metadata": {},
   "outputs": [
    {
     "name": "stdout",
     "output_type": "stream",
     "text": [
      "\n",
      "\n",
      "No redundant column present.\n"
     ]
    }
   ],
   "source": [
    "# Getting number of unique values in each columns\n",
    "max_unique_values = 0\n",
    "max_unique_value_column = None\n",
    "\n",
    "found_redundancy = False\n",
    "col = \"Population 2020\"\n",
    "u_vals = len(final_df[col].unique())\n",
    "if(u_vals == 1):\n",
    "  print(\"The column \\\"\", col, \"\\\" have same values.\")\n",
    "  found_redundancy = True\n",
    "\n",
    "col = \"Population 2019\"\n",
    "u_vals = len(final_df[col].unique())\n",
    "if(u_vals == 1):\n",
    "  print(\"The column \\\"\", col, \"\\\" have same values.\")\n",
    "  found_redundancy = True\n",
    "\n",
    "col = \"COVID-19 deaths per 100,000 population in 2020\"\n",
    "u_vals = len(final_df[col].unique())\n",
    "if(u_vals == 1):\n",
    "  print(\"The column \\\"\", col, \"\\\" have same values.\")\n",
    "  found_redundancy = True\n",
    "\n",
    "\n",
    "col = \"Median age\"\n",
    "u_vals = len(final_df[col].unique())\n",
    "if(u_vals == 1):\n",
    "  print(\"The column \\\"\", col, \"\\\" have same values.\")\n",
    "  found_redundancy = True\n",
    "\n",
    "col = \"Log of average distance to SARS countries\"\n",
    "u_vals = len(final_df[col].unique())\n",
    "if(u_vals == 1):\n",
    "  print(\"The column \\\"\", col, \"\\\" have same values.\")\n",
    "  found_redundancy = True\n",
    "\n",
    "col = \"Index of institutional trust\"\n",
    "u_vals = len(final_df[col].unique())\n",
    "if(u_vals == 1):\n",
    "  print(\"The column \\\"\", col, \"\\\" have same values.\")\n",
    "  found_redundancy = True\n",
    "\n",
    "col = \"Gini coefficient of income\"\n",
    "u_vals = len(final_df[col].unique())\n",
    "if(u_vals == 1):\n",
    "  print(\"The column \\\"\", col, \"\\\" have same values.\")\n",
    "  found_redundancy = True\n",
    "\n",
    "print(\"\\n\")\n",
    "if found_redundancy == False:\n",
    "  print(\"No redundant column present.\")"
   ]
  },
  {
   "cell_type": "markdown",
   "metadata": {},
   "source": [
    "### 4. Range of Values\n",
    "\n",
    "Your data almost certainly has some numeric columns that can be summed or averaged.  Create a histogram that shows the distribution of values for this column."
   ]
  },
  {
   "cell_type": "code",
   "execution_count": 4,
   "metadata": {},
   "outputs": [
    {
     "data": {
      "image/png": "[encoded data removed]",
      "text/plain": [
       "<Figure size 432x288 with 1 Axes>"
      ]
     },
     "metadata": {
      "needs_background": "light"
     },
     "output_type": "display_data"
    }
   ],
   "source": [
    "# plotting top 35 countries\n",
    "import matplotlib.pyplot as plt\n",
    "fig = plt.figure()\n",
    "ax = fig.add_axes([0,0,1,1])\n",
    "\n",
    "plt_data = final_df[[\"Country name\", \"COVID-19 deaths per 100,000 population in 2020\"]]\n",
    "plt_data = plt_data.sort_values(by = \"COVID-19 deaths per 100,000 population in 2020\", ascending = False)\n",
    "ax.bar(plt_data[\"Country name\"][:35],plt_data[\"COVID-19 deaths per 100,000 population in 2020\"][:35])\n",
    "plt.xticks(rotation='vertical')\n",
    "plt.show()"
   ]
  },
  {
   "cell_type": "markdown",
   "metadata": {},
   "source": [
    "### 5. Discussion\n",
    "\n",
    "Do any additional exploration of this data that you think may be interesting and include your code here.  Then go onto Slack and make a post about what you've observed.  Share your observation.  Share your code, if you like.  Share a screenshot of the data or a chart based on the data.\n",
    "\n",
    "Then comment on at least two other people's observations that they share on Slack.  (Use the reply as thread option in Slack to keep the conversation organized.)"
   ]
  },
  {
   "cell_type": "code",
   "execution_count": 5,
   "metadata": {},
   "outputs": [
    {
     "data": {
      "image/png": "[encoded data removed]",
      "text/plain": [
       "<Figure size 432x288 with 1 Axes>"
      ]
     },
     "metadata": {
      "needs_background": "light"
     },
     "output_type": "display_data"
    }
   ],
   "source": [
    "'''\n",
    "We are plotting the number of Covid Deaths with Gini Coefficient of income. We want to see whether there is any pattern in number of \n",
    "deaths with income of the country. The plot shows that there was no observable pattern.\n",
    "'''\n",
    "\n",
    "\n",
    "def fun(val):\n",
    "  return val.replace(',' , '')\n",
    "\n",
    "\n",
    "plt_data = final_df[[\"Gini coefficient of income\",\"COVID-19 deaths per 100,000 population in 2020\"]]\n",
    "plt_data = plt_data.dropna(how = \"any\")\n",
    "plt_data[\"Gini coefficient of income\"] = plt_data[\"Gini coefficient of income\"].apply(fun).astype(float)\n",
    "plt_data = plt_data.sort_values(by = \"Gini coefficient of income\")\n",
    "plt.plot(plt_data[\"Gini coefficient of income\"], plt_data[\"COVID-19 deaths per 100,000 population in 2020\"])\n",
    "plt.xlabel(\"Gini Coefficient\")\n",
    "plt.ylabel(\"Number of Covid Deaths per 10000 population\")\n",
    "plt.xticks(np.arange(min(plt_data[\"Gini coefficient of income\"]), max(plt_data[\"Gini coefficient of income\"])+1, 5000))\n",
    "plt.show()"
   ]
  },
  {
   "cell_type": "code",
   "execution_count": null,
   "metadata": {},
   "outputs": [],
   "source": []
  },
  {
   "cell_type": "markdown",
   "metadata": {},
   "source": [
    "---\n",
    "\n",
    "## Submitting Your Work\n",
    "\n",
    "In order to submit your work, you'll need to use the `git` command line program to **add** your homework file (this file) to your local repository, **commit** your changes to your local repository, and then **push** those changes up to github.com.  From there, I'll be able to **pull** the changes down and do my grading.  I'll provide some feedback, **commit** and **push** my comments back to you.  The first line of code below will **pull** down my comments into your local folders.\n",
    "\n",
    "To run through everything one last time and submit your work:\n",
    "1. Use the `Kernel` -> `Restart Kernel and Run All Cells` menu option to run everything from top to bottom and stop here.\n",
    "2. Save this note with Ctrl-S (or Cmd-S)\n",
    "2. Skip down to the last command cell (the one starting with `%%bash`) and run that cell.\n",
    "\n",
    "If anything fails along the way with this submission part of the process, let me know.  I'll help you troubleshoort."
   ]
  },
  {
   "cell_type": "code",
   "execution_count": 6,
   "metadata": {},
   "outputs": [
    {
     "ename": "AssertionError",
     "evalue": "DO NOT REMOVE THIS LINE",
     "output_type": "error",
     "traceback": [
      "\u001b[0;31m---------------------------------------------------------------------------\u001b[0m",
      "\u001b[0;31mAssertionError\u001b[0m                            Traceback (most recent call last)",
      "\u001b[0;32m<ipython-input-6-cef8011cb395>\u001b[0m in \u001b[0;36m<module>\u001b[0;34m\u001b[0m\n\u001b[0;32m----> 1\u001b[0;31m \u001b[0;32massert\u001b[0m \u001b[0;32mFalse\u001b[0m\u001b[0;34m,\u001b[0m \u001b[0;34m\"DO NOT REMOVE THIS LINE\"\u001b[0m\u001b[0;34m\u001b[0m\u001b[0;34m\u001b[0m\u001b[0m\n\u001b[0m",
      "\u001b[0;31mAssertionError\u001b[0m: DO NOT REMOVE THIS LINE"
     ]
    }
   ],
   "source": [
    "assert False, \"DO NOT REMOVE THIS LINE\""
   ]
  },
  {
   "cell_type": "markdown",
   "metadata": {},
   "source": [
    "---"
   ]
  },
  {
   "cell_type": "code",
   "execution_count": null,
   "metadata": {},
   "outputs": [],
   "source": [
    "%%bash\n",
    "git pull\n",
    "git add week12_assignment_2.ipynb\n",
    "git commit -a -m \"Submitting the week 12 assignment\"\n",
    "git push"
   ]
  },
  {
   "cell_type": "markdown",
   "metadata": {},
   "source": [
    "\n",
    "---\n",
    "\n",
    "If the message above says something like _Submitting the week 10 review exercises_ or _Everything is up to date_, then your work was submitted correctly."
   ]
  }
 ],
 "metadata": {
  "celltoolbar": "Create Assignment",
  "kernelspec": {
   "display_name": "Python 3",
   "language": "python",
   "name": "python3"
  },
  "language_info": {
   "codemirror_mode": {
    "name": "ipython",
    "version": 3
   },
   "file_extension": ".py",
   "mimetype": "text/x-python",
   "name": "python",
   "nbconvert_exporter": "python",
   "pygments_lexer": "ipython3",
   "version": "3.6.7"
  }
 },
 "nbformat": 4,
 "nbformat_minor": 2
}
