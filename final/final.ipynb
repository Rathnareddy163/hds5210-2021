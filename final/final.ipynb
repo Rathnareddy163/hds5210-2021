{
 "cells": [
  {
   "cell_type": "markdown",
   "metadata": {},
   "source": [
    "# HDS 5210-2021 Final Project- Rathna Reddy Pingili\n",
    "\n",
    "## Objective\n",
    "The COVID-19 virus has been spreading among various countires since its breakout in Wuhan, China. It is a deadly virus which affects various parts of our body especially lungs, and leads to severe damage, even death in significant number of cases.\n",
    "We have data which contains number of deaths due to COVID in various countries along with several more attributes. We wish to analyze the relation between those variables and COVID deaths and check how various aspects of a country affected the number of deaths in that country.\n",
    "We will also try to recognise attributes which were helpful in controlling the COVID spread relative to other countries and will try give a thorough analysis on the effect and behviour of each variable."
   ]
  },
  {
   "cell_type": "code",
   "execution_count": 1,
   "metadata": {},
   "outputs": [
    {
     "name": "stdout",
     "output_type": "stream",
     "text": [
      "Requirement already satisfied: kaggle in /opt/tljh/user/lib/python3.6/site-packages (1.5.12)\n",
      "Requirement already satisfied: python-dateutil in /opt/tljh/user/lib/python3.6/site-packages (from kaggle) (2.8.1)\n",
      "Requirement already satisfied: python-slugify in /opt/tljh/user/lib/python3.6/site-packages (from kaggle) (4.0.0)\n",
      "Requirement already satisfied: urllib3 in /opt/tljh/user/lib/python3.6/site-packages (from kaggle) (1.26.4)\n",
      "Requirement already satisfied: certifi in /opt/tljh/user/lib/python3.6/site-packages (from kaggle) (2020.12.5)\n",
      "Requirement already satisfied: requests in /opt/tljh/user/lib/python3.6/site-packages (from kaggle) (2.25.1)\n",
      "Requirement already satisfied: six>=1.10 in /opt/tljh/user/lib/python3.6/site-packages (from kaggle) (1.13.0)\n",
      "Requirement already satisfied: tqdm in /opt/tljh/user/lib/python3.6/site-packages (from kaggle) (4.59.0)\n",
      "Requirement already satisfied: text-unidecode>=1.3 in /opt/tljh/user/lib/python3.6/site-packages (from python-slugify->kaggle) (1.3)\n",
      "Requirement already satisfied: idna<3,>=2.5 in /opt/tljh/user/lib/python3.6/site-packages (from requests->kaggle) (2.8)\n",
      "Requirement already satisfied: chardet<5,>=3.0.2 in /opt/tljh/user/lib/python3.6/site-packages (from requests->kaggle) (3.0.4)\n",
      "cp: failed to access '/root/.kaggle': Permission denied\n"
     ]
    }
   ],
   "source": [
    "# Installing Kaggle CLI \n",
    "!pip install kaggle\n",
    "\n",
    "# Adding Kaggle configuration file to root, to access kaggle API\n",
    "!cp kaggle.json /root/.kaggle"
   ]
  },
  {
   "cell_type": "code",
   "execution_count": 2,
   "metadata": {},
   "outputs": [],
   "source": [
    "import pandas as pd\n",
    "import numpy as np\n",
    "import matplotlib.pyplot as plt"
   ]
  },
  {
   "cell_type": "code",
   "execution_count": 3,
   "metadata": {},
   "outputs": [
    {
     "name": "stdout",
     "output_type": "stream",
     "text": [
      "Traceback (most recent call last):\n",
      "  File \"/opt/tljh/user/bin/kaggle\", line 5, in <module>\n",
      "    from kaggle.cli import main\n",
      "  File \"/opt/tljh/user/lib/python3.6/site-packages/kaggle/__init__.py\", line 23, in <module>\n",
      "    api.authenticate()\n",
      "  File \"/opt/tljh/user/lib/python3.6/site-packages/kaggle/api/kaggle_api_extended.py\", line 166, in authenticate\n",
      "    self.config_file, self.config_dir))\n",
      "OSError: Could not find kaggle.json. Make sure it's located in /home/jupyter-rathnareddy163/.kaggle. Or use the environment method.\n",
      "unzip:  cannot find or open world-happiness-report-2021.zip, world-happiness-report-2021.zip.zip or world-happiness-report-2021.zip.ZIP.\n"
     ]
    }
   ],
   "source": [
    "'''\n",
    "We will access the dataset from three datasets. The datasets will be downloaded in three different formats (csv, json, and xlsx).\n",
    "We will access the same dataset from three different resources in three different formats and will take one third from each dataset and merge those\n",
    "to create the final dataset for analysis.\n",
    "\n",
    "Merging different datasets can rendor the final dataset useless. So, just to show the procedure we are doing this thing.\n",
    "\n",
    "The used dataset is World Happiness Report 2021. We are analyzing the mortality rate in year 2020 and 2021, we will see the effect of Covid-19 spread on death rates in \n",
    "each year.\n",
    "'''\n",
    "\n",
    "# reading excel sheet of mortality data from World Happiness report portal\n",
    "dataframe1 = pd.read_excel(\"https://happiness-report.s3.amazonaws.com/2021/MortalityDataWHR2021C2.xlsx\")\n",
    "dataframe1.head()\n",
    "\n",
    "# reading json file from system\n",
    "dataframe2 = pd.read_json(\"MortalityDataWHR2021C2.json\")\n",
    "dataframe2.head()\n",
    "\n",
    "# Downloading the Dataset from Kaggle\n",
    "!kaggle datasets download -d mathurinache/world-happiness-report-2021\n",
    "\n",
    "# Extracting the downloaded zip file\n",
    "!unzip -u world-happiness-report-2021.zip\n",
    "\n",
    "# Loading the dataframe from downloaded CSV file (from Kaggle)\n",
    "dataframe3 = pd.read_csv(\"MortalityDataWHR2021C2.csv\")\n",
    "\n",
    "'''\n",
    "Now, as we have successfully loaded data. We will pick up one third of each dataset, the portion will be non-overlaping so combining them will result in whole dataset.\n",
    "'''\n",
    "# Taking non-overlapping splits from each dataframe\n",
    "dataframe1 = dataframe1[:50]\n",
    "dataframe2 = dataframe2[50:100]\n",
    "dataframe3 = dataframe3[100:]\n",
    "\n",
    "'''\n",
    "We will perform the merge in two steps, as required in evaluation criteria. The initial merge will combine dataframe1 and dataframe2.\n",
    "The second merge will merge first merge's result with dataframe3.\n",
    "'''\n",
    "merge1 = pd.concat([dataframe1, dataframe2])\n",
    "final_data = pd.concat([merge1, dataframe3])"
   ]
  },
  {
   "cell_type": "code",
   "execution_count": 4,
   "metadata": {},
   "outputs": [
    {
     "data": {
      "text/html": [
       "<div>\n",
       "<style scoped>\n",
       "    .dataframe tbody tr th:only-of-type {\n",
       "        vertical-align: middle;\n",
       "    }\n",
       "\n",
       "    .dataframe tbody tr th {\n",
       "        vertical-align: top;\n",
       "    }\n",
       "\n",
       "    .dataframe thead th {\n",
       "        text-align: right;\n",
       "    }\n",
       "</style>\n",
       "<table border=\"1\" class=\"dataframe\">\n",
       "  <thead>\n",
       "    <tr style=\"text-align: right;\">\n",
       "      <th></th>\n",
       "      <th>Country name</th>\n",
       "      <th>Population 2020</th>\n",
       "      <th>Population 2019</th>\n",
       "      <th>COVID-19 deaths per 100,000 population in 2020</th>\n",
       "      <th>Median age</th>\n",
       "      <th>Island</th>\n",
       "      <th>Index of exposure to COVID-19  infections in other countries as of March 31</th>\n",
       "      <th>Log of average distance to SARS countries</th>\n",
       "      <th>WHO Western Pacific Region</th>\n",
       "      <th>Female head of government</th>\n",
       "      <th>Index of institutional trust</th>\n",
       "      <th>Gini coefficient of income</th>\n",
       "      <th>All-cause death count, 2017</th>\n",
       "      <th>All-cause death count, 2018</th>\n",
       "      <th>All-cause death count, 2019</th>\n",
       "      <th>All-cause death count, 2020</th>\n",
       "      <th>Excess deaths in 2020 per 100,000 population, relative to 2017-2019 average</th>\n",
       "    </tr>\n",
       "  </thead>\n",
       "  <tbody>\n",
       "    <tr>\n",
       "      <th>0</th>\n",
       "      <td>United States</td>\n",
       "      <td>331002647.0</td>\n",
       "      <td>328239523.0</td>\n",
       "      <td>104.451</td>\n",
       "      <td>38.3</td>\n",
       "      <td>0</td>\n",
       "      <td>1.6875</td>\n",
       "      <td>9.3149</td>\n",
       "      <td>0</td>\n",
       "      <td>0</td>\n",
       "      <td>0.250043</td>\n",
       "      <td>47.51</td>\n",
       "      <td>2810927.0</td>\n",
       "      <td>2839076.0</td>\n",
       "      <td>2852747.0</td>\n",
       "      <td>3424996.0</td>\n",
       "      <td>179.22</td>\n",
       "    </tr>\n",
       "    <tr>\n",
       "      <th>1</th>\n",
       "      <td>Egypt</td>\n",
       "      <td>102334403.0</td>\n",
       "      <td>100388073.0</td>\n",
       "      <td>7.4569</td>\n",
       "      <td>25.3</td>\n",
       "      <td>0</td>\n",
       "      <td>1.62667</td>\n",
       "      <td>9.00686</td>\n",
       "      <td>0</td>\n",
       "      <td>0</td>\n",
       "      <td>0.445924</td>\n",
       "      <td>31.56</td>\n",
       "      <td>NaN</td>\n",
       "      <td>NaN</td>\n",
       "      <td>NaN</td>\n",
       "      <td>NaN</td>\n",
       "      <td>NaN</td>\n",
       "    </tr>\n",
       "    <tr>\n",
       "      <th>2</th>\n",
       "      <td>Morocco</td>\n",
       "      <td>36910558.0</td>\n",
       "      <td>36471769.0</td>\n",
       "      <td>20.016</td>\n",
       "      <td>29.6</td>\n",
       "      <td>0</td>\n",
       "      <td>2.33605</td>\n",
       "      <td>9.22601</td>\n",
       "      <td>0</td>\n",
       "      <td>0</td>\n",
       "      <td>0.397255</td>\n",
       "      <td>39.55</td>\n",
       "      <td>NaN</td>\n",
       "      <td>NaN</td>\n",
       "      <td>NaN</td>\n",
       "      <td>NaN</td>\n",
       "      <td>NaN</td>\n",
       "    </tr>\n",
       "    <tr>\n",
       "      <th>3</th>\n",
       "      <td>Lebanon</td>\n",
       "      <td>6825442.0</td>\n",
       "      <td>6855713.0</td>\n",
       "      <td>21.5078</td>\n",
       "      <td>31.1</td>\n",
       "      <td>0</td>\n",
       "      <td>1.89143</td>\n",
       "      <td>8.95601</td>\n",
       "      <td>0</td>\n",
       "      <td>0</td>\n",
       "      <td>0.106633</td>\n",
       "      <td>31.83</td>\n",
       "      <td>NaN</td>\n",
       "      <td>NaN</td>\n",
       "      <td>NaN</td>\n",
       "      <td>NaN</td>\n",
       "      <td>NaN</td>\n",
       "    </tr>\n",
       "    <tr>\n",
       "      <th>4</th>\n",
       "      <td>Saudi Arabia</td>\n",
       "      <td>34813867.0</td>\n",
       "      <td>34268528.0</td>\n",
       "      <td>17.8751</td>\n",
       "      <td>31.9</td>\n",
       "      <td>0</td>\n",
       "      <td>1.25048</td>\n",
       "      <td>8.8968</td>\n",
       "      <td>0</td>\n",
       "      <td>0</td>\n",
       "      <td>0.650619</td>\n",
       "      <td>45.9</td>\n",
       "      <td>NaN</td>\n",
       "      <td>NaN</td>\n",
       "      <td>NaN</td>\n",
       "      <td>NaN</td>\n",
       "      <td>NaN</td>\n",
       "    </tr>\n",
       "  </tbody>\n",
       "</table>\n",
       "</div>"
      ],
      "text/plain": [
       "    Country name  Population 2020  Population 2019  \\\n",
       "0  United States      331002647.0      328239523.0   \n",
       "1          Egypt      102334403.0      100388073.0   \n",
       "2        Morocco       36910558.0       36471769.0   \n",
       "3        Lebanon        6825442.0        6855713.0   \n",
       "4   Saudi Arabia       34813867.0       34268528.0   \n",
       "\n",
       "  COVID-19 deaths per 100,000 population in 2020 Median age  Island  \\\n",
       "0                                        104.451       38.3       0   \n",
       "1                                         7.4569       25.3       0   \n",
       "2                                         20.016       29.6       0   \n",
       "3                                        21.5078       31.1       0   \n",
       "4                                        17.8751       31.9       0   \n",
       "\n",
       "  Index of exposure to COVID-19  infections in other countries as of March 31  \\\n",
       "0                                             1.6875                            \n",
       "1                                            1.62667                            \n",
       "2                                            2.33605                            \n",
       "3                                            1.89143                            \n",
       "4                                            1.25048                            \n",
       "\n",
       "  Log of average distance to SARS countries  WHO Western Pacific Region  \\\n",
       "0                                    9.3149                           0   \n",
       "1                                   9.00686                           0   \n",
       "2                                   9.22601                           0   \n",
       "3                                   8.95601                           0   \n",
       "4                                    8.8968                           0   \n",
       "\n",
       "   Female head of government Index of institutional trust  \\\n",
       "0                          0                     0.250043   \n",
       "1                          0                     0.445924   \n",
       "2                          0                     0.397255   \n",
       "3                          0                     0.106633   \n",
       "4                          0                     0.650619   \n",
       "\n",
       "  Gini coefficient of income  All-cause death count, 2017  \\\n",
       "0                      47.51                    2810927.0   \n",
       "1                      31.56                          NaN   \n",
       "2                      39.55                          NaN   \n",
       "3                      31.83                          NaN   \n",
       "4                       45.9                          NaN   \n",
       "\n",
       "   All-cause death count, 2018  All-cause death count, 2019  \\\n",
       "0                    2839076.0                    2852747.0   \n",
       "1                          NaN                          NaN   \n",
       "2                          NaN                          NaN   \n",
       "3                          NaN                          NaN   \n",
       "4                          NaN                          NaN   \n",
       "\n",
       "   All-cause death count, 2020  \\\n",
       "0                    3424996.0   \n",
       "1                          NaN   \n",
       "2                          NaN   \n",
       "3                          NaN   \n",
       "4                          NaN   \n",
       "\n",
       "  Excess deaths in 2020 per 100,000 population, relative to 2017-2019 average  \n",
       "0                                             179.22                           \n",
       "1                                                NaN                           \n",
       "2                                                NaN                           \n",
       "3                                                NaN                           \n",
       "4                                                NaN                           "
      ]
     },
     "execution_count": 4,
     "metadata": {},
     "output_type": "execute_result"
    }
   ],
   "source": [
    "final_data.head()"
   ]
  },
  {
   "cell_type": "code",
   "execution_count": 5,
   "metadata": {},
   "outputs": [
    {
     "data": {
      "text/plain": [
       "166"
      ]
     },
     "execution_count": 5,
     "metadata": {},
     "output_type": "execute_result"
    }
   ],
   "source": [
    "# Number of rows\n",
    "final_data.shape[0]"
   ]
  },
  {
   "cell_type": "code",
   "execution_count": 6,
   "metadata": {},
   "outputs": [
    {
     "name": "stdout",
     "output_type": "stream",
     "text": [
      "<class 'pandas.core.frame.DataFrame'>\n",
      "Int64Index: 166 entries, 0 to 165\n",
      "Data columns (total 17 columns):\n",
      " #   Column                                                                       Non-Null Count  Dtype  \n",
      "---  ------                                                                       --------------  -----  \n",
      " 0   Country name                                                                 166 non-null    object \n",
      " 1   Population 2020                                                              164 non-null    float64\n",
      " 2   Population 2019                                                              164 non-null    float64\n",
      " 3   COVID-19 deaths per 100,000 population in 2020                               163 non-null    object \n",
      " 4   Median age                                                                   163 non-null    object \n",
      " 5   Island                                                                       166 non-null    int64  \n",
      " 6   Index of exposure to COVID-19  infections in other countries as of March 31  164 non-null    object \n",
      " 7   Log of average distance to SARS countries                                    164 non-null    object \n",
      " 8   WHO Western Pacific Region                                                   166 non-null    int64  \n",
      " 9   Female head of government                                                    166 non-null    int64  \n",
      " 10  Index of institutional trust                                                 165 non-null    object \n",
      " 11  Gini coefficient of income                                                   164 non-null    object \n",
      " 12  All-cause death count, 2017                                                  63 non-null     float64\n",
      " 13  All-cause death count, 2018                                                  64 non-null     float64\n",
      " 14  All-cause death count, 2019                                                  64 non-null     float64\n",
      " 15  All-cause death count, 2020                                                  65 non-null     float64\n",
      " 16  Excess deaths in 2020 per 100,000 population, relative to 2017-2019 average  64 non-null     object \n",
      "dtypes: float64(6), int64(3), object(8)\n",
      "memory usage: 23.3+ KB\n"
     ]
    }
   ],
   "source": [
    "# Basic information about each data point\n",
    "final_data.info()"
   ]
  },
  {
   "cell_type": "markdown",
   "metadata": {},
   "source": [
    "#### NaN Value handling\n",
    "From the above description of datasets, we can see that the columns containing All Cause Death of previous four years contain a lot of values. So, we can drop those columns and then we can drop all the rows containing NaN values."
   ]
  },
  {
   "cell_type": "code",
   "execution_count": 7,
   "metadata": {},
   "outputs": [],
   "source": [
    "# Columns which needs to be dropped\n",
    "drp_cols = final_data.columns[12:17]\n",
    "\n",
    "# Dropping the selected columns\n",
    "final_data = final_data.drop(drp_cols, axis  =1)"
   ]
  },
  {
   "cell_type": "code",
   "execution_count": 8,
   "metadata": {},
   "outputs": [
    {
     "name": "stdout",
     "output_type": "stream",
     "text": [
      "<class 'pandas.core.frame.DataFrame'>\n",
      "Int64Index: 166 entries, 0 to 165\n",
      "Data columns (total 12 columns):\n",
      " #   Column                                                                       Non-Null Count  Dtype  \n",
      "---  ------                                                                       --------------  -----  \n",
      " 0   Country name                                                                 166 non-null    object \n",
      " 1   Population 2020                                                              164 non-null    float64\n",
      " 2   Population 2019                                                              164 non-null    float64\n",
      " 3   COVID-19 deaths per 100,000 population in 2020                               163 non-null    object \n",
      " 4   Median age                                                                   163 non-null    object \n",
      " 5   Island                                                                       166 non-null    int64  \n",
      " 6   Index of exposure to COVID-19  infections in other countries as of March 31  164 non-null    object \n",
      " 7   Log of average distance to SARS countries                                    164 non-null    object \n",
      " 8   WHO Western Pacific Region                                                   166 non-null    int64  \n",
      " 9   Female head of government                                                    166 non-null    int64  \n",
      " 10  Index of institutional trust                                                 165 non-null    object \n",
      " 11  Gini coefficient of income                                                   164 non-null    object \n",
      "dtypes: float64(2), int64(3), object(7)\n",
      "memory usage: 16.9+ KB\n"
     ]
    }
   ],
   "source": [
    "final_data.info()"
   ]
  },
  {
   "cell_type": "code",
   "execution_count": 9,
   "metadata": {},
   "outputs": [],
   "source": [
    "final_data = final_data.dropna(how = \"any\")"
   ]
  },
  {
   "cell_type": "code",
   "execution_count": 10,
   "metadata": {},
   "outputs": [
    {
     "name": "stdout",
     "output_type": "stream",
     "text": [
      "<class 'pandas.core.frame.DataFrame'>\n",
      "Int64Index: 163 entries, 0 to 165\n",
      "Data columns (total 12 columns):\n",
      " #   Column                                                                       Non-Null Count  Dtype  \n",
      "---  ------                                                                       --------------  -----  \n",
      " 0   Country name                                                                 163 non-null    object \n",
      " 1   Population 2020                                                              163 non-null    float64\n",
      " 2   Population 2019                                                              163 non-null    float64\n",
      " 3   COVID-19 deaths per 100,000 population in 2020                               163 non-null    object \n",
      " 4   Median age                                                                   163 non-null    object \n",
      " 5   Island                                                                       163 non-null    int64  \n",
      " 6   Index of exposure to COVID-19  infections in other countries as of March 31  163 non-null    object \n",
      " 7   Log of average distance to SARS countries                                    163 non-null    object \n",
      " 8   WHO Western Pacific Region                                                   163 non-null    int64  \n",
      " 9   Female head of government                                                    163 non-null    int64  \n",
      " 10  Index of institutional trust                                                 163 non-null    object \n",
      " 11  Gini coefficient of income                                                   163 non-null    object \n",
      "dtypes: float64(2), int64(3), object(7)\n",
      "memory usage: 16.6+ KB\n"
     ]
    }
   ],
   "source": [
    "final_data.info()"
   ]
  },
  {
   "cell_type": "markdown",
   "metadata": {},
   "source": [
    "#### Convert Gini Coefficient to numerical(float) data type\n",
    "The gini coefficient is interpreted as object type by tge pandas. The reason for this behaviour is that for few of the values, the \",\" was written in place of \".\". This will make pandas understand the type as non-numerical. The same mistake occured for several varibles.\n",
    "\n",
    "We will convert remove all these commas to dot after converting them to string and then will convert them to float."
   ]
  },
  {
   "cell_type": "code",
   "execution_count": 11,
   "metadata": {},
   "outputs": [],
   "source": [
    "# Function to remove commas from a string\n",
    "def remove_commas(x):\n",
    "    x = x.replace(\",\", \".\")\n",
    "    return x\n",
    "\n",
    "# converting the column values to string\n",
    "# Here we are accessing the column as 12th column of the dataframe, as name of the column is very big, \n",
    "# we simply take the name of the column from list of column names returned by pandas.\n",
    "final_data[final_data.columns[11]] = final_data[final_data.columns[11]].astype(str)\n",
    "\n",
    "# Applying the remove_comma function to all values of the columns\n",
    "final_data[final_data.columns[11]] = final_data[final_data.columns[11]].apply(remove_commas)\n",
    "\n",
    "# Converting the values to float\n",
    "final_data[final_data.columns[11]] = final_data[final_data.columns[11]].astype(float)"
   ]
  },
  {
   "cell_type": "markdown",
   "metadata": {},
   "source": [
    "#### Convert the Index of Institutional Trust to numerical(float) data type\n",
    "The \"Index of Institutional Trust\" is also interpret as \"Gini Coefficient of income\". We will convert this column also as we converted \"Gini Coefficient of Income\"."
   ]
  },
  {
   "cell_type": "code",
   "execution_count": 12,
   "metadata": {},
   "outputs": [],
   "source": [
    "final_data[final_data.columns[10]] = final_data[final_data.columns[10]].astype(str)\n",
    "\n",
    "# Applying the remove_comma function to all values of the columns\n",
    "final_data[final_data.columns[10]]= final_data[final_data.columns[10]].apply(remove_commas)\n",
    "\n",
    "final_data[final_data.columns[10]] = final_data[final_data.columns[10]].astype(float)"
   ]
  },
  {
   "cell_type": "markdown",
   "metadata": {},
   "source": [
    "#### Convert the COVID-19 deaths per 100,000 population in 2020  to numerical(float) data type\n",
    "The \"COVID-19 deaths per 100,000 population in 2020 \" is also interpreted as \"Gini Coefficient of income\". We will convert this column also as we converted \"Gini Coefficient of Income\"."
   ]
  },
  {
   "cell_type": "code",
   "execution_count": 13,
   "metadata": {},
   "outputs": [],
   "source": [
    "final_data[final_data.columns[3]] = final_data[final_data.columns[3]].astype(str)\n",
    "\n",
    "# Applying the remove_comma function to all values of the columns\n",
    "final_data[final_data.columns[3]]= final_data[final_data.columns[3]].apply(remove_commas)\n",
    "\n",
    "final_data[final_data.columns[3]] = final_data[final_data.columns[3]].astype(float)"
   ]
  },
  {
   "cell_type": "markdown",
   "metadata": {},
   "source": [
    "#### Convert the Median Age  to numerical(float) data type\n",
    "The \"COVID-19 deaths per 100,000 population in 2020 \" is also interpreted as \"Gini Coefficient of income\". We will convert this column also as we converted \"Gini Coefficient of Income\"."
   ]
  },
  {
   "cell_type": "code",
   "execution_count": 14,
   "metadata": {},
   "outputs": [],
   "source": [
    "final_data[final_data.columns[4]] = final_data[final_data.columns[4]].astype(str)\n",
    "\n",
    "# Applying the remove_comma function to all values of the columns\n",
    "final_data[final_data.columns[4]]= final_data[final_data.columns[4]].apply(remove_commas)\n",
    "\n",
    "final_data[final_data.columns[4]] = final_data[final_data.columns[4]].astype(float)"
   ]
  },
  {
   "cell_type": "markdown",
   "metadata": {},
   "source": [
    "#### Convert the Index of exposure to COVID-19  infections in other countries as of March 31  to numerical(float) data type\n",
    "The \"COVID-19 deaths per 100,000 population in 2020 \" is also interpreted as \"Gini Coefficient of income\". We will convert this column also as we converted \"Gini Coefficient of Income\"."
   ]
  },
  {
   "cell_type": "code",
   "execution_count": 15,
   "metadata": {},
   "outputs": [],
   "source": [
    "final_data[final_data.columns[6]] = final_data[final_data.columns[6]].astype(str)\n",
    "\n",
    "# Applying the remove_comma function to all values of the columns\n",
    "final_data[final_data.columns[6]]= final_data[final_data.columns[6]].apply(remove_commas)\n",
    "\n",
    "final_data[final_data.columns[6]] = final_data[final_data.columns[6]].astype(float)"
   ]
  },
  {
   "cell_type": "markdown",
   "metadata": {},
   "source": [
    "#### Convert the Log of average distance to SARS countries   to numerical(float) data type\n",
    "The \"COVID-19 deaths per 100,000 population in 2020 \" is also interpreted as \"Gini Coefficient of income\". We will convert this column also as we converted \"Gini Coefficient of Income\"."
   ]
  },
  {
   "cell_type": "code",
   "execution_count": 16,
   "metadata": {},
   "outputs": [],
   "source": [
    "final_data[final_data.columns[7]] = final_data[final_data.columns[7]].astype(str)\n",
    "\n",
    "# Applying the remove_comma function to all values of the columns\n",
    "final_data[final_data.columns[7]]= final_data[final_data.columns[7]].apply(remove_commas)\n",
    "\n",
    "final_data[final_data.columns[7]] = final_data[final_data.columns[7]].astype(float)"
   ]
  },
  {
   "cell_type": "code",
   "execution_count": 17,
   "metadata": {},
   "outputs": [
    {
     "data": {
      "text/html": [
       "<div>\n",
       "<style scoped>\n",
       "    .dataframe tbody tr th:only-of-type {\n",
       "        vertical-align: middle;\n",
       "    }\n",
       "\n",
       "    .dataframe tbody tr th {\n",
       "        vertical-align: top;\n",
       "    }\n",
       "\n",
       "    .dataframe thead th {\n",
       "        text-align: right;\n",
       "    }\n",
       "</style>\n",
       "<table border=\"1\" class=\"dataframe\">\n",
       "  <thead>\n",
       "    <tr style=\"text-align: right;\">\n",
       "      <th></th>\n",
       "      <th>Population 2020</th>\n",
       "      <th>Population 2019</th>\n",
       "      <th>COVID-19 deaths per 100,000 population in 2020</th>\n",
       "      <th>Median age</th>\n",
       "      <th>Island</th>\n",
       "      <th>Index of exposure to COVID-19  infections in other countries as of March 31</th>\n",
       "      <th>Log of average distance to SARS countries</th>\n",
       "      <th>WHO Western Pacific Region</th>\n",
       "      <th>Female head of government</th>\n",
       "      <th>Index of institutional trust</th>\n",
       "      <th>Gini coefficient of income</th>\n",
       "    </tr>\n",
       "  </thead>\n",
       "  <tbody>\n",
       "    <tr>\n",
       "      <th>count</th>\n",
       "      <td>1.630000e+02</td>\n",
       "      <td>1.630000e+02</td>\n",
       "      <td>163.000000</td>\n",
       "      <td>163.000000</td>\n",
       "      <td>163.000000</td>\n",
       "      <td>163.000000</td>\n",
       "      <td>163.000000</td>\n",
       "      <td>163.000000</td>\n",
       "      <td>163.000000</td>\n",
       "      <td>163.000000</td>\n",
       "      <td>163.000000</td>\n",
       "    </tr>\n",
       "    <tr>\n",
       "      <th>mean</th>\n",
       "      <td>4.743424e+07</td>\n",
       "      <td>4.671117e+07</td>\n",
       "      <td>30.704021</td>\n",
       "      <td>30.667485</td>\n",
       "      <td>0.134969</td>\n",
       "      <td>1.675799</td>\n",
       "      <td>9.057546</td>\n",
       "      <td>0.085890</td>\n",
       "      <td>0.141104</td>\n",
       "      <td>0.315727</td>\n",
       "      <td>37.956339</td>\n",
       "    </tr>\n",
       "    <tr>\n",
       "      <th>std</th>\n",
       "      <td>1.603294e+08</td>\n",
       "      <td>1.572632e+08</td>\n",
       "      <td>38.194209</td>\n",
       "      <td>9.332182</td>\n",
       "      <td>0.342744</td>\n",
       "      <td>1.304413</td>\n",
       "      <td>0.376638</td>\n",
       "      <td>0.281064</td>\n",
       "      <td>0.349202</td>\n",
       "      <td>0.173388</td>\n",
       "      <td>8.277317</td>\n",
       "    </tr>\n",
       "    <tr>\n",
       "      <th>min</th>\n",
       "      <td>3.412500e+05</td>\n",
       "      <td>3.613130e+05</td>\n",
       "      <td>0.000000</td>\n",
       "      <td>15.100000</td>\n",
       "      <td>0.000000</td>\n",
       "      <td>0.379029</td>\n",
       "      <td>8.044208</td>\n",
       "      <td>0.000000</td>\n",
       "      <td>0.000000</td>\n",
       "      <td>0.046448</td>\n",
       "      <td>23.200000</td>\n",
       "    </tr>\n",
       "    <tr>\n",
       "      <th>25%</th>\n",
       "      <td>4.825998e+06</td>\n",
       "      <td>4.715246e+06</td>\n",
       "      <td>1.680150</td>\n",
       "      <td>21.850000</td>\n",
       "      <td>0.000000</td>\n",
       "      <td>0.818266</td>\n",
       "      <td>8.929396</td>\n",
       "      <td>0.000000</td>\n",
       "      <td>0.000000</td>\n",
       "      <td>0.187729</td>\n",
       "      <td>32.325000</td>\n",
       "    </tr>\n",
       "    <tr>\n",
       "      <th>50%</th>\n",
       "      <td>1.132662e+07</td>\n",
       "      <td>1.126308e+07</td>\n",
       "      <td>10.125000</td>\n",
       "      <td>29.700000</td>\n",
       "      <td>0.000000</td>\n",
       "      <td>1.076000</td>\n",
       "      <td>9.070000</td>\n",
       "      <td>0.000000</td>\n",
       "      <td>0.000000</td>\n",
       "      <td>0.286000</td>\n",
       "      <td>37.343000</td>\n",
       "    </tr>\n",
       "    <tr>\n",
       "      <th>75%</th>\n",
       "      <td>3.414153e+07</td>\n",
       "      <td>3.392459e+07</td>\n",
       "      <td>46.802649</td>\n",
       "      <td>39.349999</td>\n",
       "      <td>0.000000</td>\n",
       "      <td>2.237639</td>\n",
       "      <td>9.310718</td>\n",
       "      <td>0.000000</td>\n",
       "      <td>0.000000</td>\n",
       "      <td>0.412937</td>\n",
       "      <td>43.850000</td>\n",
       "    </tr>\n",
       "    <tr>\n",
       "      <th>max</th>\n",
       "      <td>1.439324e+09</td>\n",
       "      <td>1.397715e+09</td>\n",
       "      <td>168.495697</td>\n",
       "      <td>48.200001</td>\n",
       "      <td>1.000000</td>\n",
       "      <td>6.343308</td>\n",
       "      <td>9.726268</td>\n",
       "      <td>1.000000</td>\n",
       "      <td>1.000000</td>\n",
       "      <td>0.905728</td>\n",
       "      <td>65.426000</td>\n",
       "    </tr>\n",
       "  </tbody>\n",
       "</table>\n",
       "</div>"
      ],
      "text/plain": [
       "       Population 2020  Population 2019  \\\n",
       "count     1.630000e+02     1.630000e+02   \n",
       "mean      4.743424e+07     4.671117e+07   \n",
       "std       1.603294e+08     1.572632e+08   \n",
       "min       3.412500e+05     3.613130e+05   \n",
       "25%       4.825998e+06     4.715246e+06   \n",
       "50%       1.132662e+07     1.126308e+07   \n",
       "75%       3.414153e+07     3.392459e+07   \n",
       "max       1.439324e+09     1.397715e+09   \n",
       "\n",
       "       COVID-19 deaths per 100,000 population in 2020  Median age      Island  \\\n",
       "count                                      163.000000  163.000000  163.000000   \n",
       "mean                                        30.704021   30.667485    0.134969   \n",
       "std                                         38.194209    9.332182    0.342744   \n",
       "min                                          0.000000   15.100000    0.000000   \n",
       "25%                                          1.680150   21.850000    0.000000   \n",
       "50%                                         10.125000   29.700000    0.000000   \n",
       "75%                                         46.802649   39.349999    0.000000   \n",
       "max                                        168.495697   48.200001    1.000000   \n",
       "\n",
       "       Index of exposure to COVID-19  infections in other countries as of March 31  \\\n",
       "count                                         163.000000                             \n",
       "mean                                            1.675799                             \n",
       "std                                             1.304413                             \n",
       "min                                             0.379029                             \n",
       "25%                                             0.818266                             \n",
       "50%                                             1.076000                             \n",
       "75%                                             2.237639                             \n",
       "max                                             6.343308                             \n",
       "\n",
       "       Log of average distance to SARS countries  WHO Western Pacific Region  \\\n",
       "count                                 163.000000                  163.000000   \n",
       "mean                                    9.057546                    0.085890   \n",
       "std                                     0.376638                    0.281064   \n",
       "min                                     8.044208                    0.000000   \n",
       "25%                                     8.929396                    0.000000   \n",
       "50%                                     9.070000                    0.000000   \n",
       "75%                                     9.310718                    0.000000   \n",
       "max                                     9.726268                    1.000000   \n",
       "\n",
       "       Female head of government  Index of institutional trust  \\\n",
       "count                 163.000000                    163.000000   \n",
       "mean                    0.141104                      0.315727   \n",
       "std                     0.349202                      0.173388   \n",
       "min                     0.000000                      0.046448   \n",
       "25%                     0.000000                      0.187729   \n",
       "50%                     0.000000                      0.286000   \n",
       "75%                     0.000000                      0.412937   \n",
       "max                     1.000000                      0.905728   \n",
       "\n",
       "       Gini coefficient of income  \n",
       "count                  163.000000  \n",
       "mean                    37.956339  \n",
       "std                      8.277317  \n",
       "min                     23.200000  \n",
       "25%                     32.325000  \n",
       "50%                     37.343000  \n",
       "75%                     43.850000  \n",
       "max                     65.426000  "
      ]
     },
     "execution_count": 17,
     "metadata": {},
     "output_type": "execute_result"
    }
   ],
   "source": [
    "# Basic Statistical Description of all Columns\n",
    "final_data.describe()"
   ]
  },
  {
   "cell_type": "markdown",
   "metadata": {},
   "source": [
    "## Correlation Table\n",
    "Let us look at the correlation between each of these columns."
   ]
  },
  {
   "cell_type": "code",
   "execution_count": 18,
   "metadata": {},
   "outputs": [
    {
     "data": {
      "text/html": [
       "<div>\n",
       "<style scoped>\n",
       "    .dataframe tbody tr th:only-of-type {\n",
       "        vertical-align: middle;\n",
       "    }\n",
       "\n",
       "    .dataframe tbody tr th {\n",
       "        vertical-align: top;\n",
       "    }\n",
       "\n",
       "    .dataframe thead th {\n",
       "        text-align: right;\n",
       "    }\n",
       "</style>\n",
       "<table border=\"1\" class=\"dataframe\">\n",
       "  <thead>\n",
       "    <tr style=\"text-align: right;\">\n",
       "      <th></th>\n",
       "      <th>Population 2020</th>\n",
       "      <th>Population 2019</th>\n",
       "      <th>COVID-19 deaths per 100,000 population in 2020</th>\n",
       "      <th>Median age</th>\n",
       "      <th>Island</th>\n",
       "      <th>Index of exposure to COVID-19  infections in other countries as of March 31</th>\n",
       "      <th>Log of average distance to SARS countries</th>\n",
       "      <th>WHO Western Pacific Region</th>\n",
       "      <th>Female head of government</th>\n",
       "      <th>Index of institutional trust</th>\n",
       "      <th>Gini coefficient of income</th>\n",
       "    </tr>\n",
       "  </thead>\n",
       "  <tbody>\n",
       "    <tr>\n",
       "      <th>Population 2020</th>\n",
       "      <td>1.000000</td>\n",
       "      <td>0.999947</td>\n",
       "      <td>-0.056084</td>\n",
       "      <td>0.025002</td>\n",
       "      <td>-0.037282</td>\n",
       "      <td>-0.085253</td>\n",
       "      <td>-0.235791</td>\n",
       "      <td>0.176302</td>\n",
       "      <td>-0.060123</td>\n",
       "      <td>0.130658</td>\n",
       "      <td>0.107084</td>\n",
       "    </tr>\n",
       "    <tr>\n",
       "      <th>Population 2019</th>\n",
       "      <td>0.999947</td>\n",
       "      <td>1.000000</td>\n",
       "      <td>-0.054830</td>\n",
       "      <td>0.026055</td>\n",
       "      <td>-0.036900</td>\n",
       "      <td>-0.084670</td>\n",
       "      <td>-0.235933</td>\n",
       "      <td>0.174896</td>\n",
       "      <td>-0.060148</td>\n",
       "      <td>0.130418</td>\n",
       "      <td>0.106458</td>\n",
       "    </tr>\n",
       "    <tr>\n",
       "      <th>COVID-19 deaths per 100,000 population in 2020</th>\n",
       "      <td>-0.056084</td>\n",
       "      <td>-0.054830</td>\n",
       "      <td>1.000000</td>\n",
       "      <td>0.559788</td>\n",
       "      <td>-0.164123</td>\n",
       "      <td>0.646544</td>\n",
       "      <td>0.208336</td>\n",
       "      <td>-0.234948</td>\n",
       "      <td>-0.112023</td>\n",
       "      <td>-0.371844</td>\n",
       "      <td>-0.220135</td>\n",
       "    </tr>\n",
       "    <tr>\n",
       "      <th>Median age</th>\n",
       "      <td>0.025002</td>\n",
       "      <td>0.026055</td>\n",
       "      <td>0.559788</td>\n",
       "      <td>1.000000</td>\n",
       "      <td>0.154035</td>\n",
       "      <td>0.641452</td>\n",
       "      <td>-0.251365</td>\n",
       "      <td>0.170516</td>\n",
       "      <td>0.218870</td>\n",
       "      <td>-0.063090</td>\n",
       "      <td>-0.456755</td>\n",
       "    </tr>\n",
       "    <tr>\n",
       "      <th>Island</th>\n",
       "      <td>-0.037282</td>\n",
       "      <td>-0.036900</td>\n",
       "      <td>-0.164123</td>\n",
       "      <td>0.154035</td>\n",
       "      <td>1.000000</td>\n",
       "      <td>-0.107076</td>\n",
       "      <td>-0.041099</td>\n",
       "      <td>0.199310</td>\n",
       "      <td>0.046196</td>\n",
       "      <td>0.123073</td>\n",
       "      <td>0.045335</td>\n",
       "    </tr>\n",
       "    <tr>\n",
       "      <th>Index of exposure to COVID-19  infections in other countries as of March 31</th>\n",
       "      <td>-0.085253</td>\n",
       "      <td>-0.084670</td>\n",
       "      <td>0.646544</td>\n",
       "      <td>0.641452</td>\n",
       "      <td>-0.107076</td>\n",
       "      <td>1.000000</td>\n",
       "      <td>-0.068462</td>\n",
       "      <td>-0.183456</td>\n",
       "      <td>0.080229</td>\n",
       "      <td>-0.056488</td>\n",
       "      <td>-0.578238</td>\n",
       "    </tr>\n",
       "    <tr>\n",
       "      <th>Log of average distance to SARS countries</th>\n",
       "      <td>-0.235791</td>\n",
       "      <td>-0.235933</td>\n",
       "      <td>0.208336</td>\n",
       "      <td>-0.251365</td>\n",
       "      <td>-0.041099</td>\n",
       "      <td>-0.068462</td>\n",
       "      <td>1.000000</td>\n",
       "      <td>-0.555918</td>\n",
       "      <td>-0.144292</td>\n",
       "      <td>-0.345730</td>\n",
       "      <td>0.311096</td>\n",
       "    </tr>\n",
       "    <tr>\n",
       "      <th>WHO Western Pacific Region</th>\n",
       "      <td>0.176302</td>\n",
       "      <td>0.174896</td>\n",
       "      <td>-0.234948</td>\n",
       "      <td>0.170516</td>\n",
       "      <td>0.199310</td>\n",
       "      <td>-0.183456</td>\n",
       "      <td>-0.555918</td>\n",
       "      <td>1.000000</td>\n",
       "      <td>0.064436</td>\n",
       "      <td>0.189053</td>\n",
       "      <td>0.007596</td>\n",
       "    </tr>\n",
       "    <tr>\n",
       "      <th>Female head of government</th>\n",
       "      <td>-0.060123</td>\n",
       "      <td>-0.060148</td>\n",
       "      <td>-0.112023</td>\n",
       "      <td>0.218870</td>\n",
       "      <td>0.046196</td>\n",
       "      <td>0.080229</td>\n",
       "      <td>-0.144292</td>\n",
       "      <td>0.064436</td>\n",
       "      <td>1.000000</td>\n",
       "      <td>0.085884</td>\n",
       "      <td>-0.146376</td>\n",
       "    </tr>\n",
       "    <tr>\n",
       "      <th>Index of institutional trust</th>\n",
       "      <td>0.130658</td>\n",
       "      <td>0.130418</td>\n",
       "      <td>-0.371844</td>\n",
       "      <td>-0.063090</td>\n",
       "      <td>0.123073</td>\n",
       "      <td>-0.056488</td>\n",
       "      <td>-0.345730</td>\n",
       "      <td>0.189053</td>\n",
       "      <td>0.085884</td>\n",
       "      <td>1.000000</td>\n",
       "      <td>-0.021300</td>\n",
       "    </tr>\n",
       "    <tr>\n",
       "      <th>Gini coefficient of income</th>\n",
       "      <td>0.107084</td>\n",
       "      <td>0.106458</td>\n",
       "      <td>-0.220135</td>\n",
       "      <td>-0.456755</td>\n",
       "      <td>0.045335</td>\n",
       "      <td>-0.578238</td>\n",
       "      <td>0.311096</td>\n",
       "      <td>0.007596</td>\n",
       "      <td>-0.146376</td>\n",
       "      <td>-0.021300</td>\n",
       "      <td>1.000000</td>\n",
       "    </tr>\n",
       "  </tbody>\n",
       "</table>\n",
       "</div>"
      ],
      "text/plain": [
       "                                                    Population 2020  \\\n",
       "Population 2020                                            1.000000   \n",
       "Population 2019                                            0.999947   \n",
       "COVID-19 deaths per 100,000 population in 2020            -0.056084   \n",
       "Median age                                                 0.025002   \n",
       "Island                                                    -0.037282   \n",
       "Index of exposure to COVID-19  infections in ot...        -0.085253   \n",
       "Log of average distance to SARS countries                 -0.235791   \n",
       "WHO Western Pacific Region                                 0.176302   \n",
       "Female head of government                                 -0.060123   \n",
       "Index of institutional trust                               0.130658   \n",
       "Gini coefficient of income                                 0.107084   \n",
       "\n",
       "                                                    Population 2019  \\\n",
       "Population 2020                                            0.999947   \n",
       "Population 2019                                            1.000000   \n",
       "COVID-19 deaths per 100,000 population in 2020            -0.054830   \n",
       "Median age                                                 0.026055   \n",
       "Island                                                    -0.036900   \n",
       "Index of exposure to COVID-19  infections in ot...        -0.084670   \n",
       "Log of average distance to SARS countries                 -0.235933   \n",
       "WHO Western Pacific Region                                 0.174896   \n",
       "Female head of government                                 -0.060148   \n",
       "Index of institutional trust                               0.130418   \n",
       "Gini coefficient of income                                 0.106458   \n",
       "\n",
       "                                                    COVID-19 deaths per 100,000 population in 2020  \\\n",
       "Population 2020                                                                          -0.056084   \n",
       "Population 2019                                                                          -0.054830   \n",
       "COVID-19 deaths per 100,000 population in 2020                                            1.000000   \n",
       "Median age                                                                                0.559788   \n",
       "Island                                                                                   -0.164123   \n",
       "Index of exposure to COVID-19  infections in ot...                                        0.646544   \n",
       "Log of average distance to SARS countries                                                 0.208336   \n",
       "WHO Western Pacific Region                                                               -0.234948   \n",
       "Female head of government                                                                -0.112023   \n",
       "Index of institutional trust                                                             -0.371844   \n",
       "Gini coefficient of income                                                               -0.220135   \n",
       "\n",
       "                                                    Median age    Island  \\\n",
       "Population 2020                                       0.025002 -0.037282   \n",
       "Population 2019                                       0.026055 -0.036900   \n",
       "COVID-19 deaths per 100,000 population in 2020        0.559788 -0.164123   \n",
       "Median age                                            1.000000  0.154035   \n",
       "Island                                                0.154035  1.000000   \n",
       "Index of exposure to COVID-19  infections in ot...    0.641452 -0.107076   \n",
       "Log of average distance to SARS countries            -0.251365 -0.041099   \n",
       "WHO Western Pacific Region                            0.170516  0.199310   \n",
       "Female head of government                             0.218870  0.046196   \n",
       "Index of institutional trust                         -0.063090  0.123073   \n",
       "Gini coefficient of income                           -0.456755  0.045335   \n",
       "\n",
       "                                                    Index of exposure to COVID-19  infections in other countries as of March 31  \\\n",
       "Population 2020                                                                             -0.085253                             \n",
       "Population 2019                                                                             -0.084670                             \n",
       "COVID-19 deaths per 100,000 population in 2020                                               0.646544                             \n",
       "Median age                                                                                   0.641452                             \n",
       "Island                                                                                      -0.107076                             \n",
       "Index of exposure to COVID-19  infections in ot...                                           1.000000                             \n",
       "Log of average distance to SARS countries                                                   -0.068462                             \n",
       "WHO Western Pacific Region                                                                  -0.183456                             \n",
       "Female head of government                                                                    0.080229                             \n",
       "Index of institutional trust                                                                -0.056488                             \n",
       "Gini coefficient of income                                                                  -0.578238                             \n",
       "\n",
       "                                                    Log of average distance to SARS countries  \\\n",
       "Population 2020                                                                     -0.235791   \n",
       "Population 2019                                                                     -0.235933   \n",
       "COVID-19 deaths per 100,000 population in 2020                                       0.208336   \n",
       "Median age                                                                          -0.251365   \n",
       "Island                                                                              -0.041099   \n",
       "Index of exposure to COVID-19  infections in ot...                                  -0.068462   \n",
       "Log of average distance to SARS countries                                            1.000000   \n",
       "WHO Western Pacific Region                                                          -0.555918   \n",
       "Female head of government                                                           -0.144292   \n",
       "Index of institutional trust                                                        -0.345730   \n",
       "Gini coefficient of income                                                           0.311096   \n",
       "\n",
       "                                                    WHO Western Pacific Region  \\\n",
       "Population 2020                                                       0.176302   \n",
       "Population 2019                                                       0.174896   \n",
       "COVID-19 deaths per 100,000 population in 2020                       -0.234948   \n",
       "Median age                                                            0.170516   \n",
       "Island                                                                0.199310   \n",
       "Index of exposure to COVID-19  infections in ot...                   -0.183456   \n",
       "Log of average distance to SARS countries                            -0.555918   \n",
       "WHO Western Pacific Region                                            1.000000   \n",
       "Female head of government                                             0.064436   \n",
       "Index of institutional trust                                          0.189053   \n",
       "Gini coefficient of income                                            0.007596   \n",
       "\n",
       "                                                    Female head of government  \\\n",
       "Population 2020                                                     -0.060123   \n",
       "Population 2019                                                     -0.060148   \n",
       "COVID-19 deaths per 100,000 population in 2020                      -0.112023   \n",
       "Median age                                                           0.218870   \n",
       "Island                                                               0.046196   \n",
       "Index of exposure to COVID-19  infections in ot...                   0.080229   \n",
       "Log of average distance to SARS countries                           -0.144292   \n",
       "WHO Western Pacific Region                                           0.064436   \n",
       "Female head of government                                            1.000000   \n",
       "Index of institutional trust                                         0.085884   \n",
       "Gini coefficient of income                                          -0.146376   \n",
       "\n",
       "                                                    Index of institutional trust  \\\n",
       "Population 2020                                                         0.130658   \n",
       "Population 2019                                                         0.130418   \n",
       "COVID-19 deaths per 100,000 population in 2020                         -0.371844   \n",
       "Median age                                                             -0.063090   \n",
       "Island                                                                  0.123073   \n",
       "Index of exposure to COVID-19  infections in ot...                     -0.056488   \n",
       "Log of average distance to SARS countries                              -0.345730   \n",
       "WHO Western Pacific Region                                              0.189053   \n",
       "Female head of government                                               0.085884   \n",
       "Index of institutional trust                                            1.000000   \n",
       "Gini coefficient of income                                             -0.021300   \n",
       "\n",
       "                                                    Gini coefficient of income  \n",
       "Population 2020                                                       0.107084  \n",
       "Population 2019                                                       0.106458  \n",
       "COVID-19 deaths per 100,000 population in 2020                       -0.220135  \n",
       "Median age                                                           -0.456755  \n",
       "Island                                                                0.045335  \n",
       "Index of exposure to COVID-19  infections in ot...                   -0.578238  \n",
       "Log of average distance to SARS countries                             0.311096  \n",
       "WHO Western Pacific Region                                            0.007596  \n",
       "Female head of government                                            -0.146376  \n",
       "Index of institutional trust                                         -0.021300  \n",
       "Gini coefficient of income                                            1.000000  "
      ]
     },
     "execution_count": 18,
     "metadata": {},
     "output_type": "execute_result"
    }
   ],
   "source": [
    "final_data.corr()"
   ]
  },
  {
   "cell_type": "markdown",
   "metadata": {},
   "source": [
    "### Analysis Number of Covid Deaths in 2020 (per 100,000 population)\n",
    "If we look at relation of Number of Deaths with other varibles. We can get following conclusion:\n",
    "1. There is a strong positive correlation between Median Age and Number of Deaths per 100,000 people in the country.\n",
    "2. There is a positive correlation of with distance of Log of avergae of SARs countries.\n",
    "3. There is Female Head of Govt, Index of Institutional Trust, and Gini Coefficient present strong/significant negative correlation with number of deaths per 100,000 population.\n",
    "Let us Analyse these realtion one by one.\n",
    "\n",
    "#### Number of Deaths and Gini Coefficient of Income\n",
    "Let us look at the plot between Number of Deaths and Gini Coeff of income."
   ]
  },
  {
   "cell_type": "code",
   "execution_count": 19,
   "metadata": {},
   "outputs": [
    {
     "data": {
      "image/png": "[encoded data removed]",
      "text/plain": [
       "<Figure size 432x288 with 1 Axes>"
      ]
     },
     "metadata": {
      "needs_background": "light"
     },
     "output_type": "display_data"
    }
   ],
   "source": [
    "# Plotting the scatter plot using pandas plot\n",
    "final_data.plot(x = final_data.columns[11], y = final_data.columns[3], kind = \"scatter\")\n",
    "plt.show()"
   ]
  },
  {
   "cell_type": "markdown",
   "metadata": {},
   "source": [
    "There are more points with high death value for small Gini Coefficient Value. Let us make a linear regression fit and look the trend of the points with increasing value of Gini Coefficient."
   ]
  },
  {
   "cell_type": "code",
   "execution_count": 20,
   "metadata": {},
   "outputs": [
    {
     "data": {
      "image/png": "[encoded data removed]",
      "text/plain": [
       "<Figure size 432x288 with 1 Axes>"
      ]
     },
     "metadata": {
      "needs_background": "light"
     },
     "output_type": "display_data"
    },
    {
     "name": "stdout",
     "output_type": "stream",
     "text": [
      "Value of slope =  -1.0157761992236838\n",
      "Value of Intercept =  69.25916657692191\n"
     ]
    }
   ],
   "source": [
    "# Getting the values as numpy arrays to plot \n",
    "# Ref: https://www.kite.com/python/answers/how-to-plot-a-linear-regression-line-on-a-scatter-plot-in-python#:~:text=Use%20numpy.,the%20line%20of%20best%20fit.\n",
    "\n",
    "# X is the Gini Index Column\n",
    "x = final_data[final_data.columns[11]].to_numpy()\n",
    "\n",
    "# Y is number of deaths\n",
    "y = final_data[final_data.columns[3]].to_numpy()\n",
    "\n",
    "\n",
    "# Scatter plot\n",
    "plt.plot(x, y, 'o')\n",
    "\n",
    "# Fit the linear regression\n",
    "m, b = np.polyfit(x, y, 1)\n",
    "\n",
    "# add the regression line on same plot\n",
    "plt.plot(x, m*x + b)\n",
    "\n",
    "# show the plot\n",
    "plt.show()\n",
    "\n",
    "# Value of slope and intercept for the regression fit.\n",
    "print(\"Value of slope = \", m)\n",
    "print(\"Value of Intercept = \", b)"
   ]
  },
  {
   "cell_type": "markdown",
   "metadata": {},
   "source": [
    "We can cleary there is a decresing pattern with increasing Gini Coefficient.\n",
    "\n",
    "##### Number of Deaths and Index of Institutional Trust\n",
    "There was negative correlation observed between IIT (Index of Institutional Index) and Number of Death. Let us look at the scatter plot with regression fit."
   ]
  },
  {
   "cell_type": "code",
   "execution_count": 21,
   "metadata": {},
   "outputs": [
    {
     "data": {
      "image/png": "[encoded data removed]",
      "text/plain": [
       "<Figure size 432x288 with 1 Axes>"
      ]
     },
     "metadata": {
      "needs_background": "light"
     },
     "output_type": "display_data"
    },
    {
     "name": "stdout",
     "output_type": "stream",
     "text": [
      "Value of slope =  -81.91064339472372\n",
      "Value of Intercept =  56.56546183975287\n"
     ]
    }
   ],
   "source": [
    "# X is IIT\n",
    "x = final_data[final_data.columns[10]].to_numpy()\n",
    "\n",
    "# Y is number of deaths\n",
    "y = final_data[final_data.columns[3]].to_numpy()\n",
    "\n",
    "# plotting the scatter plot\n",
    "plt.plot(x, y, 'o')\n",
    "\n",
    "# Fitting the regression line\n",
    "m, b = np.polyfit(x, y, 1)\n",
    "\n",
    "# plotting the gression line\n",
    "plt.plot(x, m*x + b)\n",
    "\n",
    "# showing thr plot\n",
    "plt.show()\n",
    "\n",
    "# Values of slope and intercept\n",
    "print(\"Value of slope = \", m)\n",
    "print(\"Value of Intercept = \", b)"
   ]
  },
  {
   "cell_type": "markdown",
   "metadata": {},
   "source": [
    "The plot looks similar but this one looks more strong, there are more high values of Death on lower side of IIT and quite a low values on higher side. The value of slope is also quite negative.\n",
    "\n",
    "##### Number of Deaths and female Govt heads\n",
    "Let us see whether there is any effect on number of deaths for female govt head in the country."
   ]
  },
  {
   "cell_type": "code",
   "execution_count": 22,
   "metadata": {},
   "outputs": [
    {
     "data": {
      "text/plain": [
       "<matplotlib.axes._subplots.AxesSubplot at 0x7fa4160ff630>"
      ]
     },
     "execution_count": 22,
     "metadata": {},
     "output_type": "execute_result"
    },
    {
     "data": {
      "image/png": "[encoded data removed]",
      "text/plain": [
       "<Figure size 432x288 with 1 Axes>"
      ]
     },
     "metadata": {
      "needs_background": "light"
     },
     "output_type": "display_data"
    }
   ],
   "source": [
    "# Using pandas boxplot\n",
    "final_data.boxplot(column = final_data.columns[3], by = final_data.columns[9])"
   ]
  },
  {
   "cell_type": "markdown",
   "metadata": {},
   "source": [
    "The value looks a bit low for the Female head govt. There can be various aspects to it. The first thing can be due to female leader, the other part can be, the countries which have female leader are more educated and developed, so they showing those traits from those attributes. So, let us compare the Gini index and IIT of the countries which have female leader and which doesn't have female leaders.\n",
    "\n",
    "##### Box plot for Gini Index for countries which have female head and which doesn't\n"
   ]
  },
  {
   "cell_type": "code",
   "execution_count": 23,
   "metadata": {},
   "outputs": [
    {
     "data": {
      "image/png": "[encoded data removed]",
      "text/plain": [
       "<Figure size 432x288 with 1 Axes>"
      ]
     },
     "metadata": {
      "needs_background": "light"
     },
     "output_type": "display_data"
    }
   ],
   "source": [
    "final_data.boxplot(column = final_data.columns[11], by = final_data.columns[9])\n",
    "plt.show()"
   ]
  },
  {
   "cell_type": "markdown",
   "metadata": {},
   "source": [
    "##### Box plot for IIT for countries which have female head and which doesn't"
   ]
  },
  {
   "cell_type": "code",
   "execution_count": 24,
   "metadata": {},
   "outputs": [
    {
     "data": {
      "image/png": "[encoded data removed]",
      "text/plain": [
       "<Figure size 432x288 with 1 Axes>"
      ]
     },
     "metadata": {
      "needs_background": "light"
     },
     "output_type": "display_data"
    }
   ],
   "source": [
    "final_data.boxplot(column = final_data.columns[10], by = final_data.columns[9])\n",
    "plt.show()"
   ]
  },
  {
   "cell_type": "markdown",
   "metadata": {},
   "source": [
    "We can see that there is no significant difference for both values for each group. So, we can safely conclude that governments with female leaders were able to handle the situation in better way.\n",
    "\n",
    "#### Median Age and Number of deaths\n",
    "If we look at the correlation matrix, there was a strong correlation between number of deaths and median age. Let is look at the scatter plot with linear regression for that too."
   ]
  },
  {
   "cell_type": "code",
   "execution_count": 25,
   "metadata": {},
   "outputs": [
    {
     "data": {
      "image/png": "[encoded data removed]",
      "text/plain": [
       "<Figure size 432x288 with 1 Axes>"
      ]
     },
     "metadata": {
      "needs_background": "light"
     },
     "output_type": "display_data"
    },
    {
     "name": "stdout",
     "output_type": "stream",
     "text": [
      "Value of slope =  2.2910677595848883\n",
      "Value of Intercept =  -39.5572645407204\n"
     ]
    }
   ],
   "source": [
    "# X is IIT\n",
    "x = final_data[final_data.columns[4]].to_numpy()\n",
    "\n",
    "# Y is number of deaths\n",
    "y = final_data[final_data.columns[3]].to_numpy()\n",
    "\n",
    "# plotting the scatter plot\n",
    "plt.plot(x, y, 'o')\n",
    "\n",
    "# Fitting the regression line\n",
    "m, b = np.polyfit(x, y, 1)\n",
    "\n",
    "# plotting the gression line\n",
    "plt.plot(x, m*x + b)\n",
    "\n",
    "# showing thr plot\n",
    "plt.show()\n",
    "\n",
    "# Values of slope and intercept\n",
    "print(\"Value of slope = \", m)\n",
    "print(\"Value of Intercept = \", b)"
   ]
  },
  {
   "cell_type": "markdown",
   "metadata": {},
   "source": [
    "The number of deaths increased in quite a significant way with increasing median age."
   ]
  },
  {
   "cell_type": "code",
   "execution_count": null,
   "metadata": {},
   "outputs": [
    {
     "name": "stderr",
     "output_type": "stream",
     "text": [
      "/opt/tljh/user/lib/python3.6/site-packages/seaborn/axisgrid.py:64: UserWarning: Tight layout not applied. tight_layout cannot make axes width small enough to accommodate all axes decorations\n",
      "  self.fig.tight_layout(*args, **kwargs)\n"
     ]
    }
   ],
   "source": [
    "# Making the pairplot using seabron library to see the relation between pair \n",
    "import seaborn as sns\n",
    "p_plot = sns.pairplot(final_data, vars = final_data.columns[3:])"
   ]
  },
  {
   "cell_type": "markdown",
   "metadata": {},
   "source": [
    "## Conclusion\n",
    "From the analysis that we have done, we can conclude following points\n",
    "1. The number of Covid Deaths per 100,000 were decreasing with increasing Gini Coefficient of Income. We can say that countries which were more developed and rich had more medical facilities, thus less deaths than other countries. Although there is possibility of more Covid-Spread in those countries but the number of deaths were less.\n",
    "2. The number covid deaths per 100,000 were decreasing with increasing Index of Institutional Trust, the deaths were decreasing.\n",
    "3. The number of deaths in countries which had female government head were less compared to others. We further checked whether it may be due to other factors, but no special relation with other variables was observed. It can be concluded that female head governments were able handle the pandemic in a better way than others.\n",
    "4. The number of deaths with Median age of the country increased. The elder people were more vulnerable to Covid, resulting in more deaths of elder people. Thus countries which had higher median, having more old people, reported higher amount of deaths.\n",
    "5. If we look at the pair graphs above, there was observable relation between Gini COefficient of income and Index of Institutional Trust. So, we can say that these attributes were the independent and major predictors for the Covid Deaths along with the Median age which is also not related to previous two attributes, according to pair plot."
   ]
  },
  {
   "cell_type": "markdown",
   "metadata": {},
   "source": [
    "## Significance of Work\n",
    "The results of the analysis can be observed in the cell above. It was observed that better Index of Institutional Trust resulted in better crowd handling and awareness among the people.\n",
    "\n",
    "So, after looking at the major three analysis variables, median age, Gini Coeff of Income, and Index of Institutional Trust, which seem independent to each at quite a significant level, we can say that the elder people need to be properly guarded from the virus, as they are more vulnurable to the virus, the better medical facilities will obvisouly result in better health care for infected people. And better Index of institutional Trust will ensure that pandemics and events involving crowd handling should be handled with proper coordinations of all institutions of the country."
   ]
  },
  {
   "cell_type": "code",
   "execution_count": null,
   "metadata": {},
   "outputs": [],
   "source": [
    "assert False, \"DO NOT REMOVE THIS LINE\""
   ]
  },
  {
   "cell_type": "code",
   "execution_count": null,
   "metadata": {},
   "outputs": [],
   "source": [
    "%%bash\n",
    "git pull\n",
    "git add final.ipynb\n",
    "git commit -a -m \"Submitting the final project\"\n",
    "git push"
   ]
  },
  {
   "cell_type": "code",
   "execution_count": null,
   "metadata": {},
   "outputs": [],
   "source": []
  }
 ],
 "metadata": {
  "kernelspec": {
   "display_name": "Python 3",
   "language": "python",
   "name": "python3"
  },
  "language_info": {
   "codemirror_mode": {
    "name": "ipython",
    "version": 3
   },
   "file_extension": ".py",
   "mimetype": "text/x-python",
   "name": "python",
   "nbconvert_exporter": "python",
   "pygments_lexer": "ipython3",
   "version": "3.6.7"
  }
 },
 "nbformat": 4,
 "nbformat_minor": 4
}
